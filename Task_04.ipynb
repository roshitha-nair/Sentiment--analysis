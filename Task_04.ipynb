{
  "nbformat": 4,
  "nbformat_minor": 0,
  "metadata": {
    "colab": {
      "provenance": [],
      "authorship_tag": "ABX9TyOjSwolvcXM1L+uOgJ8FpBI",
      "include_colab_link": true
    },
    "kernelspec": {
      "name": "python3",
      "display_name": "Python 3"
    },
    "language_info": {
      "name": "python"
    }
  },
  "cells": [
    {
      "cell_type": "markdown",
      "metadata": {
        "id": "view-in-github",
        "colab_type": "text"
      },
      "source": [
        "<a href=\"https://colab.research.google.com/github/roshitha-nair/Sentiment--analysis/blob/main/Task_04.ipynb\" target=\"_parent\"><img src=\"https://colab.research.google.com/assets/colab-badge.svg\" alt=\"Open In Colab\"/></a>"
      ]
    },
    {
      "cell_type": "markdown",
      "source": [
        "Load the Data"
      ],
      "metadata": {
        "id": "MOh3el4GIaoj"
      }
    },
    {
      "cell_type": "code",
      "execution_count": 3,
      "metadata": {
        "colab": {
          "base_uri": "https://localhost:8080/"
        },
        "id": "DwBGG1vgIV2V",
        "outputId": "c24a6352-e12f-4709-9c36-856c2363f6d6"
      },
      "outputs": [
        {
          "output_type": "stream",
          "name": "stdout",
          "text": [
            "   2401  Borderlands  Positive  \\\n",
            "0  2401  Borderlands  Positive   \n",
            "1  2401  Borderlands  Positive   \n",
            "2  2401  Borderlands  Positive   \n",
            "3  2401  Borderlands  Positive   \n",
            "4  2401  Borderlands  Positive   \n",
            "\n",
            "  im getting on borderlands and i will murder you all ,  \n",
            "0  I am coming to the borders and I will kill you...     \n",
            "1  im getting on borderlands and i will kill you ...     \n",
            "2  im coming on borderlands and i will murder you...     \n",
            "3  im getting on borderlands 2 and i will murder ...     \n",
            "4  im getting into borderlands and i can murder y...     \n"
          ]
        }
      ],
      "source": [
        "import pandas as pd\n",
        "#read csv file\n",
        "df = pd.read_csv('/content/twitter_training.csv')\n",
        "print(df.head())\n"
      ]
    },
    {
      "cell_type": "markdown",
      "source": [
        " Clean the Text Data"
      ],
      "metadata": {
        "id": "aA7WmZCyI0u3"
      }
    },
    {
      "cell_type": "code",
      "source": [
        "import re\n",
        "def clean_text(text):\n",
        "    text = str(text)\n",
        "    text = re.sub(r\"http\\\\S+\", \"\", text)\n",
        "    text = re.sub(r\"[^A-Za-z ]\", \"\", text)\n",
        "    text = text.lower()\n",
        "    return text\n",
        "df['clean_text'] = df['im getting on borderlands and i will murder you all ,'].apply(clean_text)\n"
      ],
      "metadata": {
        "id": "UqipFD6qI3mf"
      },
      "execution_count": 5,
      "outputs": []
    },
    {
      "cell_type": "markdown",
      "source": [
        "Perform Sentiment Analysis"
      ],
      "metadata": {
        "id": "X1KrTNQsM7xb"
      }
    },
    {
      "cell_type": "code",
      "source": [
        "from textblob import TextBlob\n",
        "\n",
        "# Calculate sentiment polarity\n",
        "df['polarity'] = df['clean_text'].apply(lambda x: TextBlob(x).sentiment.polarity)\n",
        "\n",
        "# Categorize sentiment as Positive, Negative, or Neutral\n",
        "df['sentiment'] = df['polarity'].apply(lambda x: 'Positive' if x > 0 else ('Negative' if x < 0 else 'Neutral'))\n",
        "\n",
        "# Check the sentiment distribution\n",
        "print(df['sentiment'].value_counts())\n"
      ],
      "metadata": {
        "colab": {
          "base_uri": "https://localhost:8080/"
        },
        "id": "Hetei2A2M8W5",
        "outputId": "4f8c2e6e-b5a0-497f-9961-2273f2eea9bf"
      },
      "execution_count": 6,
      "outputs": [
        {
          "output_type": "stream",
          "name": "stdout",
          "text": [
            "sentiment\n",
            "Positive    7371\n",
            "Negative    4496\n",
            "Neutral     3969\n",
            "Name: count, dtype: int64\n"
          ]
        }
      ]
    },
    {
      "cell_type": "markdown",
      "source": [
        "Visualize Sentiment"
      ],
      "metadata": {
        "id": "Igg__BVhNFlK"
      }
    },
    {
      "cell_type": "code",
      "source": [
        "import seaborn as sns\n",
        "import matplotlib.pyplot as plt\n",
        "\n",
        "# Plot sentiment counts\n",
        "sns.countplot(x='sentiment', data=df, hue='sentiment', palette='coolwarm', legend=False) # Now df has 'sentiment' column\n",
        "plt.title('Sentiment Distribution')\n",
        "plt.xlabel('Sentiment')\n",
        "plt.ylabel('Count')\n",
        "plt.show()\n",
        "\n",
        "\n"
      ],
      "metadata": {
        "colab": {
          "base_uri": "https://localhost:8080/",
          "height": 472
        },
        "id": "IhROG7tANGPX",
        "outputId": "d2f726cc-e4b7-4fca-b3da-f1c003d8b144"
      },
      "execution_count": 7,
      "outputs": [
        {
          "output_type": "display_data",
          "data": {
            "text/plain": [
              "<Figure size 640x480 with 1 Axes>"
            ],
            "image/png": "[encoded data removed]"
          },
          "metadata": {}
        }
      ]
    }
  ]
}